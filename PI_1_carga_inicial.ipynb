{
 "cells": [
  {
   "cell_type": "code",
   "execution_count": 457,
   "metadata": {},
   "outputs": [],
   "source": [
    "import pandas as pd\n",
    "import numpy as np\n",
    "import pymysql\n",
    "import sqlalchemy as db\n"
   ]
  },
  {
   "cell_type": "markdown",
   "metadata": {},
   "source": [
    "CARGAR DATASETS"
   ]
  },
  {
   "cell_type": "code",
   "execution_count": 458,
   "metadata": {},
   "outputs": [],
   "source": [
    "producto = pd.read_parquet('Datasets/producto.parquet')"
   ]
  },
  {
   "cell_type": "code",
   "execution_count": 459,
   "metadata": {},
   "outputs": [],
   "source": [
    "sucursal = pd.read_csv('Datasets/sucursal.csv')"
   ]
  },
  {
   "cell_type": "code",
   "execution_count": 460,
   "metadata": {},
   "outputs": [],
   "source": [
    "precio_1 = pd.read_csv('Datasets/precios_semana_20200413.csv', encoding='UTF-16 LE')\n",
    "\n",
    "precio_2 = pd.read_excel('Datasets/precios_semanas_20200419_20200426.xlsx')\n",
    "\n",
    "precio_3 = pd.read_json('Datasets/precios_semana_20200503.json')\n",
    "\n"
   ]
  },
  {
   "cell_type": "markdown",
   "metadata": {},
   "source": [
    "DEFINIR TIPO DE DATOS EN LAS COLUMNAS DE LOS DATAFRAMES CARGADOS: \n",
    "\n",
    "precio -> float64\n",
    "\n",
    "producto_id ->str\n",
    "\n",
    "sucursal_id -> str"
   ]
  },
  {
   "cell_type": "code",
   "execution_count": 461,
   "metadata": {},
   "outputs": [],
   "source": [
    "def quitar_guion(codigo):  # esta es una funcion para quitar los '-' de las columnas producto_id\n",
    "    y= codigo.replace(\"-\",\"\")\n",
    "    return y\n"
   ]
  },
  {
   "cell_type": "code",
   "execution_count": 462,
   "metadata": {},
   "outputs": [],
   "source": [
    "data_types_dict = {'producto_id':str , 'sucursal_id':str}\n",
    "precio_1 = precio_1.astype(data_types_dict) # convierto columnas a string para usar el replace() de la funcion quitar_guion()\n",
    "precio_3 = precio_3.astype(data_types_dict)\n",
    "\n",
    "precio_1['producto_id']= precio_1['producto_id'].map(quitar_guion) # quito guiones de ids de producto\n",
    "precio_3['producto_id']= precio_3['producto_id'].map(quitar_guion)\n",
    "producto['id']= producto['id'].map(quitar_guion)\n",
    "\n",
    "precio_1['producto_id'] = precio_1['producto_id'].apply(lambda x : np.NaN if x=='nan' else x) # asigno NAN a campos precio vacios\n",
    "precio_3['precio'] = precio_3['precio'].apply(lambda x : None if x=='' else x) # asigno NAN a campos precio vacios\n"
   ]
  },
  {
   "cell_type": "code",
   "execution_count": 463,
   "metadata": {},
   "outputs": [],
   "source": [
    "data_types_dict = {'producto_id':float , 'precio':float} # cambio tipo a float para poder trabajar con NAN\n",
    "precio_1 = precio_1.astype(data_types_dict)  \n",
    "precio_3 = precio_3.astype(data_types_dict)\n",
    "producto = producto.astype({'id':float}) # esta conversion se realiza debido a que no es posible convertir directamente a int\n",
    "producto = producto.astype({'id':np.int64})\n"
   ]
  },
  {
   "cell_type": "markdown",
   "metadata": {},
   "source": [
    "UNIFICAR ORDEN DE COLUMNAS"
   ]
  },
  {
   "cell_type": "code",
   "execution_count": 464,
   "metadata": {},
   "outputs": [],
   "source": [
    "precio_2 = precio_2.reindex(columns=['precio','producto_id','sucursal_id'])"
   ]
  },
  {
   "cell_type": "markdown",
   "metadata": {},
   "source": [
    "UNIR DATAFRAMES DE PRECIOS"
   ]
  },
  {
   "cell_type": "code",
   "execution_count": 465,
   "metadata": {},
   "outputs": [],
   "source": [
    "precio = pd.concat([precio_1 , precio_2 , precio_3])\n",
    "precio.reset_index(inplace=True, drop=True)"
   ]
  },
  {
   "cell_type": "markdown",
   "metadata": {},
   "source": [
    "ELIMINAR NULOS"
   ]
  },
  {
   "cell_type": "code",
   "execution_count": 466,
   "metadata": {},
   "outputs": [],
   "source": [
    "precio['sucursal_id'] = precio['sucursal_id'].apply(lambda x : np.NaN if x=='nan' else x) # convierte 'nan' de columna sucursal_id en np.NAN\n",
    "# se hace despues de unir ya que el tipo de sucursal_id es str en las tres tablas"
   ]
  },
  {
   "cell_type": "code",
   "execution_count": 467,
   "metadata": {},
   "outputs": [],
   "source": [
    "precio.dropna(subset=['precio','sucursal_id'], inplace=True) # elimina los que no tienen precio o sucursal_id"
   ]
  },
  {
   "cell_type": "code",
   "execution_count": 468,
   "metadata": {},
   "outputs": [
    {
     "data": {
      "text/plain": [
       "precio  producto_id  sucursal_id\n",
       "False   False        False          1331514\n",
       "        True         False            13420\n",
       "dtype: int64"
      ]
     },
     "execution_count": 468,
     "metadata": {},
     "output_type": "execute_result"
    }
   ],
   "source": [
    "precio.isnull().value_counts() # aqui se puede ver las instancias con nulos en producto_id únicamente"
   ]
  },
  {
   "cell_type": "code",
   "execution_count": 469,
   "metadata": {},
   "outputs": [],
   "source": [
    "producto.drop(columns=['categoria1' , 'categoria2' , 'categoria3'], inplace=True) # eliminar las 3 col de categoria porque son en su mayoria nulos\n",
    "# en la tabla sucursal no hay nulos "
   ]
  },
  {
   "cell_type": "markdown",
   "metadata": {},
   "source": [
    "ELIMINACION DE DUPLICADOS"
   ]
  },
  {
   "cell_type": "code",
   "execution_count": 470,
   "metadata": {},
   "outputs": [],
   "source": [
    "#precio[precio.duplicated()] # verificar existencia de duplicados\n",
    "precio.drop_duplicates(inplace=True)"
   ]
  },
  {
   "cell_type": "markdown",
   "metadata": {},
   "source": [
    "DEFINIR NOMBRE DE COLUMNAS"
   ]
  },
  {
   "cell_type": "code",
   "execution_count": 471,
   "metadata": {},
   "outputs": [],
   "source": [
    "producto.columns=['id_producto','marca','nombre', 'presentacion']\n",
    "sucursal.columns=['id_sucursal' , 'id_comercio', 'id_bandera', 'bandera', 'razon_social', 'provincia', 'localidad', 'direccion', 'latitud', 'longitud', 'nombre', 'tipo']\n",
    "precio.columns=['precio', 'id_producto', 'id_sucursal']"
   ]
  },
  {
   "cell_type": "markdown",
   "metadata": {},
   "source": [
    "ASIGNAR None A LOS id_sucursal DE LA TABLA PRECIOS QUE NO ESTÁN EN LA TABLA DE SUCURSALES "
   ]
  },
  {
   "cell_type": "code",
   "execution_count": 472,
   "metadata": {},
   "outputs": [
    {
     "name": "stderr",
     "output_type": "stream",
     "text": [
      "C:\\Users\\jcgut\\AppData\\Local\\Temp\\ipykernel_9728\\1168758963.py:2: SettingWithCopyWarning: \n",
      "A value is trying to be set on a copy of a slice from a DataFrame\n",
      "\n",
      "See the caveats in the documentation: https://pandas.pydata.org/pandas-docs/stable/user_guide/indexing.html#returning-a-view-versus-a-copy\n",
      "  merge_ps.loc[:,'id_sucursal'][merge_ps.id_comercio.isnull()] = None\n"
     ]
    }
   ],
   "source": [
    "merge_ps=pd.merge(precio , sucursal , how='left' , on='id_sucursal')\n",
    "merge_ps.loc[:,'id_sucursal'][merge_ps.id_comercio.isnull()] = None\n",
    "precio = merge_ps.loc[:,['precio','id_producto','id_sucursal']]"
   ]
  },
  {
   "cell_type": "markdown",
   "metadata": {},
   "source": [
    "CARGA INICIAL DE TABLAS A LA BD"
   ]
  },
  {
   "cell_type": "code",
   "execution_count": 479,
   "metadata": {},
   "outputs": [],
   "source": [
    "#establecimiento de conexión con la base de datos pi_1\n",
    "database_username='root' # Nombre de cliente en MySQL Workbench\n",
    "database_password='4488' # Contraseña de MySQL Workbench\n",
    "database_ip='localhost' # localizacion del servidor\n",
    "database_name='pi_1' # Nombre de Base de datos a la que nos conectaremos\n",
    "engine=db.create_engine(f'mysql+pymysql://{database_username}:{database_password}@{database_ip}/{database_name}')\n",
    "conexion=engine.connect()\n",
    "#metadata=db.MetaData() # !!!!!!!!!!!!!!!pendiente!!!!!!!!!!!!!!!!"
   ]
  },
  {
   "cell_type": "code",
   "execution_count": 475,
   "metadata": {},
   "outputs": [
    {
     "data": {
      "text/plain": [
       "1168551"
      ]
     },
     "execution_count": 475,
     "metadata": {},
     "output_type": "execute_result"
    }
   ],
   "source": [
    "# cada carga tiene una definicion previa de un diccionario con los tipos con los que se desea ingestar la data en la base de datos\n",
    "\n",
    "types_pro_dict={'id_producto':db.types.BIGINT, \n",
    "                'marca':db.types.NVARCHAR(length=40), \n",
    "                'nombre':db.types.NVARCHAR(length=200), \n",
    "                'presentacion':db.types.NVARCHAR(length=20)\n",
    "                }\n",
    "producto.to_sql('productos',conexion, index=False , dtype=types_pro_dict) # carga de la tabla producto\n",
    "\n",
    "types_suc_dict={'id_sucursal':db.types.VARCHAR(length=10), \n",
    "                'id_comercio':db.types.INTEGER, \n",
    "                'id_bandera':db.types.INTEGER, \n",
    "                'bandera':db.types.VARCHAR(length=80),\n",
    "                'razon_social':db.types.VARCHAR(length=100), \n",
    "                'provincia':db.types.VARCHAR(length=10), \n",
    "                'localidad':db.types.VARCHAR(length=80), \n",
    "                'direccion':db.types.VARCHAR(length=80), \n",
    "                'latitud':db.types.DECIMAL(precision=8, scale=6), \n",
    "                'longitud':db.types.DECIMAL(precision=8, scale=6), \n",
    "                'nombre':db.types.VARCHAR(length=80), \n",
    "                'tipo':db.types.VARCHAR(length=50)\n",
    "                }\n",
    "sucursal.to_sql('sucursales',conexion, index=False , dtype = types_suc_dict ) # carga de la tabla sucursal\n",
    "\n",
    "types_precio_dict={'precio':db.types.FLOAT, 'id_producto':db.types.BIGINT, 'id_sucursal':db.types.VARCHAR(length=10)}\n",
    "precio.to_sql('precios',conexion, index=False, dtype=types_precio_dict) # carga de la tabla precio"
   ]
  },
  {
   "cell_type": "code",
   "execution_count": 478,
   "metadata": {},
   "outputs": [],
   "source": [
    "conexion.close()"
   ]
  }
 ],
 "metadata": {
  "kernelspec": {
   "display_name": "Python 3.10.6 64-bit",
   "language": "python",
   "name": "python3"
  },
  "language_info": {
   "codemirror_mode": {
    "name": "ipython",
    "version": 3
   },
   "file_extension": ".py",
   "mimetype": "text/x-python",
   "name": "python",
   "nbconvert_exporter": "python",
   "pygments_lexer": "ipython3",
   "version": "3.10.6"
  },
  "orig_nbformat": 4,
  "vscode": {
   "interpreter": {
    "hash": "828c1455415b8d49af9924e48c46e7aa2ab0d8dbb5ba25d5a1595b045d45fe8e"
   }
  }
 },
 "nbformat": 4,
 "nbformat_minor": 2
}
