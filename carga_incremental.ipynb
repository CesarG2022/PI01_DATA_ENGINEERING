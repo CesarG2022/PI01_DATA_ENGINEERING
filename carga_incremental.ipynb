{
 "cells": [
  {
   "cell_type": "markdown",
   "metadata": {},
   "source": [
    "CARGA INCREMENTAL (este paso requiere que previeamente se realice la creación del modelo relacional en workbench)"
   ]
  },
  {
   "cell_type": "code",
   "execution_count": null,
   "metadata": {},
   "outputs": [],
   "source": [
    "#establecimiento de conexión con la base de datos pi_1\n",
    "import pandas as pd\n",
    "import numpy as np\n",
    "import pymysql\n",
    "import sqlalchemy as db\n",
    "database_username='root' # Nombre de cliente en MySQL Workbench\n",
    "database_password='4488' # Contraseña de MySQL Workbench\n",
    "database_ip='localhost' # localizacion del servidor\n",
    "database_name='pi_1' # Nombre de Base de datos a la que nos conectaremos\n",
    "engine=db.create_engine(f'mysql+pymysql://{database_username}:{database_password}@{database_ip}/{database_name}')\n",
    "conexion=engine.connect() "
   ]
  },
  {
   "cell_type": "code",
   "execution_count": null,
   "metadata": {},
   "outputs": [],
   "source": [
    "#Transformacion de dataset basado en las transformaciones de los datos iniciales\n",
    "\n",
    "precios_nuevos= pd.read_csv('Datasets/precios_semana_20200518.txt', sep=\"|\") #lectura\n",
    "\n",
    "data_types_dict = {'producto_id':str , 'sucursal_id':str}\n",
    "precios_nuevos = precios_nuevos.astype(data_types_dict) # define dtype \n",
    "\n",
    "def quitar_guion(codigo):  # esta es una funcion para quitar los '-' de las columnas producto_id\n",
    "    y= codigo.replace(\"-\",\"\")\n",
    "    return y \n",
    "\n",
    "precios_nuevos['producto_id']= precios_nuevos['producto_id'].map(quitar_guion) # elimina guiones de ids de producto\n",
    "precios_nuevos.head(3)\n",
    "\n",
    "precios_nuevos['producto_id'] = precios_nuevos['producto_id'].apply(lambda x : np.NaN if x=='nan' else x) # asigna NAN a campos precio vacios\n",
    "precios_nuevos['precio'] = precios_nuevos['precio'].apply(lambda x : None if x=='' else x) # asigna NAN a campos precio vacios\n",
    "\n",
    "data_types_dict = {'producto_id':float , 'precio':float} # cambia tipo a float para poder trabajar con NAN\n",
    "precios_nuevos = precios_nuevos.astype(data_types_dict) \n",
    "\n",
    "precios_nuevos = precios_nuevos.reindex(columns=['precio','producto_id','sucursal_id']) # ordenar columnas\n",
    "\n",
    "precios_nuevos['sucursal_id'] = precios_nuevos['sucursal_id'].apply(lambda x : np.NaN if x=='nan' else x) # convierte 'nan' de columna sucursal_id en np.NAN\n",
    "\n",
    "precios_nuevos.dropna(subset=['precio','sucursal_id'], inplace=True) # elimina los que no tienen precio o sucursal_id\n",
    "\n",
    "precios_nuevos.drop_duplicates(inplace=True) # se elimina duplicados\n",
    "\n",
    "precios_nuevos.columns=['precio', 'id_producto', 'id_sucursal'] # se cambian los nombre de las columnas\n",
    "\n",
    "sucursales_db=pd.read_sql_table(table_name='sucursales', con=conexion) # trae la tabla sucursales\n",
    "merge_pnus=pd.merge(precios_nuevos , sucursales_db , how='left' , on='id_sucursal') #\n",
    "merge_pnus.loc[:,'id_sucursal'][merge_pnus.id_comercio.isnull()] = None\n",
    "precios_nuevos = merge_pnus.loc[:,['precio','id_producto','id_sucursal']]"
   ]
  },
  {
   "cell_type": "code",
   "execution_count": null,
   "metadata": {},
   "outputs": [],
   "source": [
    "types_precio_dict={'precio':db.types.FLOAT, 'id_producto':db.types.BIGINT, 'id_sucursal':db.types.VARCHAR(length=10)}\n",
    "precios_nuevos.to_sql('precios',conexion, index=False , dtype=types_precio_dict, if_exists='append') #carga incremental a la tabla precios de la db pi_1"
   ]
  },
  {
   "cell_type": "code",
   "execution_count": null,
   "metadata": {},
   "outputs": [],
   "source": [
    "conexion.close()"
   ]
  }
 ],
 "metadata": {
  "kernelspec": {
   "display_name": "Python 3.10.6 64-bit",
   "language": "python",
   "name": "python3"
  },
  "language_info": {
   "name": "python",
   "version": "3.10.6"
  },
  "orig_nbformat": 4,
  "vscode": {
   "interpreter": {
    "hash": "828c1455415b8d49af9924e48c46e7aa2ab0d8dbb5ba25d5a1595b045d45fe8e"
   }
  }
 },
 "nbformat": 4,
 "nbformat_minor": 2
}
