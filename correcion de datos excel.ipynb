{
 "cells": [
  {
   "cell_type": "markdown",
   "metadata": {},
   "source": [
    "CORRECION DE DATASET DE EXCEL"
   ]
  },
  {
   "cell_type": "code",
   "execution_count": null,
   "metadata": {},
   "outputs": [],
   "source": [
    "df = pd.concat([precio_1 , precio_3])\n",
    "df.drop(columns='sucursal_id', inplace=True)\n",
    "df.drop_duplicates(inplace=True)\n",
    "df.reset_index(inplace=True, drop=True)\n",
    "df.head(2)"
   ]
  },
  {
   "cell_type": "code",
   "execution_count": null,
   "metadata": {},
   "outputs": [],
   "source": [
    "df_grouped= pd.DataFrame(df.groupby(\"producto_id\" , as_index=False)[\"precio\"].max())\n",
    "df_grouped.dropna(inplace=True)\n",
    "precio_2.dropna(subset=['precio','producto_id'],inplace=True)\n",
    "df_grouped"
   ]
  },
  {
   "cell_type": "code",
   "execution_count": null,
   "metadata": {},
   "outputs": [],
   "source": [
    "mer=pd.merge(precio_2, df_grouped, how='left', on='producto_id')\n",
    "mer.dropna(inplace=True)"
   ]
  },
  {
   "cell_type": "code",
   "execution_count": null,
   "metadata": {},
   "outputs": [],
   "source": [
    "mer['ratio']=mer.precio_x/mer.precio_y"
   ]
  },
  {
   "cell_type": "code",
   "execution_count": null,
   "metadata": {},
   "outputs": [],
   "source": [
    "pd.options.display.float_format = '{:.2f}'.format\n",
    "\n",
    "mer[mer.ratio<5].sort_values('ratio')"
   ]
  }
 ],
 "metadata": {
  "kernelspec": {
   "display_name": "Python 3.10.6 64-bit",
   "language": "python",
   "name": "python3"
  },
  "language_info": {
   "name": "python",
   "version": "3.10.6"
  },
  "orig_nbformat": 4,
  "vscode": {
   "interpreter": {
    "hash": "828c1455415b8d49af9924e48c46e7aa2ab0d8dbb5ba25d5a1595b045d45fe8e"
   }
  }
 },
 "nbformat": 4,
 "nbformat_minor": 2
}
